{
 "cells": [
  {
   "cell_type": "code",
   "execution_count": 1,
   "metadata": {
    "collapsed": true
   },
   "outputs": [],
   "source": [
    "# Importing Libraries"
   ]
  },
  {
   "cell_type": "code",
   "execution_count": 1,
   "metadata": {},
   "outputs": [],
   "source": [
    "import pandas as pd\n",
    "import numpy as np"
   ]
  },
  {
   "cell_type": "code",
   "execution_count": 2,
   "metadata": {},
   "outputs": [],
   "source": [
    "# Activities are the class labels\n",
    "# It is a 6 class classification\n",
    "ACTIVITIES = {\n",
    "    0: 'WALKING',\n",
    "    1: 'WALKING_UPSTAIRS',\n",
    "    2: 'WALKING_DOWNSTAIRS',\n",
    "    3: 'SITTING',\n",
    "    4: 'STANDING',\n",
    "    5: 'LAYING',\n",
    "}\n",
    "\n",
    "# Utility function to print the confusion matrix\n",
    "def confusion_matrix(Y_true, Y_pred):\n",
    "    Y_true = pd.Series([ACTIVITIES[y] for y in np.argmax(Y_true, axis=1)])\n",
    "    Y_pred = pd.Series([ACTIVITIES[y] for y in np.argmax(Y_pred, axis=1)])\n",
    "\n",
    "    return pd.crosstab(Y_true, Y_pred, rownames=['True'], colnames=['Pred'])"
   ]
  },
  {
   "cell_type": "markdown",
   "metadata": {},
   "source": [
    "### Data"
   ]
  },
  {
   "cell_type": "code",
   "execution_count": 3,
   "metadata": {},
   "outputs": [],
   "source": [
    "# Data directory\n",
    "DATADIR = 'UCI_HAR_Dataset'"
   ]
  },
  {
   "cell_type": "code",
   "execution_count": 4,
   "metadata": {},
   "outputs": [],
   "source": [
    "# Raw data signals\n",
    "# Signals are from Accelerometer and Gyroscope\n",
    "# The signals are in x,y,z directions\n",
    "# Sensor signals are filtered to have only body acceleration\n",
    "# excluding the acceleration due to gravity\n",
    "# Triaxial acceleration from the accelerometer is total acceleration\n",
    "SIGNALS = [\n",
    "    \"body_acc_x\",\n",
    "    \"body_acc_y\",\n",
    "    \"body_acc_z\",\n",
    "    \"body_gyro_x\",\n",
    "    \"body_gyro_y\",\n",
    "    \"body_gyro_z\",\n",
    "    \"total_acc_x\",\n",
    "    \"total_acc_y\",\n",
    "    \"total_acc_z\"\n",
    "]"
   ]
  },
  {
   "cell_type": "code",
   "execution_count": 24,
   "metadata": {},
   "outputs": [],
   "source": [
    "# Utility function to read the data from csv file\n",
    "def _read_csv(filename):\n",
    "    return pd.read_csv(filename, delim_whitespace=True, header=None)\n",
    "\n",
    "# Utility function to load the load\n",
    "def load_signals(subset):\n",
    "    signals_data = []\n",
    "\n",
    "    for signal in SIGNALS:\n",
    "        filename = f'UCI_HAR_Dataset/{subset}/Inertial Signals/{signal}_{subset}.txt'\n",
    "        signals_data.append(\n",
    "            _read_csv(filename).to_numpy()\n",
    "        ) \n",
    "\n",
    "    # Transpose is used to change the dimensionality of the output,\n",
    "    # aggregating the signals by combination of sample/timestep.\n",
    "    # Resultant shape is (7352 train/2947 test samples, 128 timesteps, 9 signals)\n",
    "    return np.transpose(signals_data, (1, 2, 0))"
   ]
  },
  {
   "cell_type": "code",
   "execution_count": 15,
   "metadata": {},
   "outputs": [],
   "source": [
    "\n",
    "def load_y(subset):\n",
    "    \"\"\"\n",
    "    The objective that we are trying to predict is a integer, from 1 to 6,\n",
    "    that represents a human activity. We return a binary representation of \n",
    "    every sample objective as a 6 bits vector using One Hot Encoding\n",
    "    (https://pandas.pydata.org/pandas-docs/stable/generated/pandas.get_dummies.html)\n",
    "    \"\"\"\n",
    "    filename = f'UCI_HAR_Dataset/{subset}/y_{subset}.txt'\n",
    "    y = _read_csv(filename)[0]\n",
    "\n",
    "    return pd.get_dummies(y).to_numpy()"
   ]
  },
  {
   "cell_type": "code",
   "execution_count": 16,
   "metadata": {},
   "outputs": [],
   "source": [
    "def load_data():\n",
    "    \"\"\"\n",
    "    Obtain the dataset from multiple files.\n",
    "    Returns: X_train, X_test, y_train, y_test\n",
    "    \"\"\"\n",
    "    X_train, X_test = load_signals('train'), load_signals('test')\n",
    "    y_train, y_test = load_y('train'), load_y('test')\n",
    "\n",
    "    return X_train, X_test, y_train, y_test"
   ]
  },
  {
   "cell_type": "code",
   "execution_count": 17,
   "metadata": {},
   "outputs": [],
   "source": [
    "# Importing tensorflow\n",
    "np.random.seed(42)\n",
    "import tensorflow as tf\n",
    "tf.set_random_seed(42)"
   ]
  },
  {
   "cell_type": "code",
   "execution_count": 18,
   "metadata": {},
   "outputs": [],
   "source": [
    "# Configuring a session\n",
    "session_conf = tf.ConfigProto(\n",
    "    intra_op_parallelism_threads=1,\n",
    "    inter_op_parallelism_threads=1\n",
    ")"
   ]
  },
  {
   "cell_type": "code",
   "execution_count": 19,
   "metadata": {},
   "outputs": [],
   "source": [
    "# Import Keras\n",
    "from keras import backend as K\n",
    "sess = tf.Session(graph=tf.get_default_graph(), config=session_conf)\n",
    "K.set_session(sess)"
   ]
  },
  {
   "cell_type": "code",
   "execution_count": 20,
   "metadata": {},
   "outputs": [],
   "source": [
    "# Importing libraries\n",
    "from keras.models import Sequential\n",
    "from keras.layers import LSTM\n",
    "from keras.layers.core import Dense, Dropout"
   ]
  },
  {
   "cell_type": "code",
   "execution_count": 21,
   "metadata": {},
   "outputs": [],
   "source": [
    "# Initializing parameters\n",
    "epochs = 30\n",
    "batch_size = 16\n",
    "n_hidden = 32"
   ]
  },
  {
   "cell_type": "code",
   "execution_count": 22,
   "metadata": {},
   "outputs": [],
   "source": [
    "# Utility function to count the number of classes\n",
    "def _count_classes(y):\n",
    "    return len(set([tuple(category) for category in y]))"
   ]
  },
  {
   "cell_type": "code",
   "execution_count": 25,
   "metadata": {},
   "outputs": [],
   "source": [
    "# Loading the train and test data\n",
    "X_train, X_test, Y_train, Y_test = load_data()"
   ]
  },
  {
   "cell_type": "code",
   "execution_count": 26,
   "metadata": {},
   "outputs": [
    {
     "name": "stdout",
     "output_type": "stream",
     "text": [
      "128\n",
      "9\n",
      "7352\n"
     ]
    }
   ],
   "source": [
    "timesteps = len(X_train[0])\n",
    "input_dim = len(X_train[0][0])\n",
    "n_classes = _count_classes(Y_train)\n",
    "\n",
    "print(timesteps)\n",
    "print(input_dim)\n",
    "print(len(X_train))"
   ]
  },
  {
   "cell_type": "markdown",
   "metadata": {},
   "source": [
    "- Defining the Architecture of LSTM"
   ]
  },
  {
   "cell_type": "code",
   "execution_count": 27,
   "metadata": {},
   "outputs": [
    {
     "name": "stdout",
     "output_type": "stream",
     "text": [
      "_________________________________________________________________\n",
      "Layer (type)                 Output Shape              Param #   \n",
      "=================================================================\n",
      "lstm_1 (LSTM)                (None, 32)                5376      \n",
      "_________________________________________________________________\n",
      "dropout_1 (Dropout)          (None, 32)                0         \n",
      "_________________________________________________________________\n",
      "dense_1 (Dense)              (None, 6)                 198       \n",
      "=================================================================\n",
      "Total params: 5,574\n",
      "Trainable params: 5,574\n",
      "Non-trainable params: 0\n",
      "_________________________________________________________________\n"
     ]
    }
   ],
   "source": [
    "# Initiliazing the sequential model\n",
    "model = Sequential()\n",
    "# Configuring the parameters\n",
    "model.add(LSTM(n_hidden, input_shape=(timesteps, input_dim)))\n",
    "# Adding a dropout layer\n",
    "model.add(Dropout(0.5))\n",
    "# Adding a dense output layer with sigmoid activation\n",
    "model.add(Dense(n_classes, activation='sigmoid'))\n",
    "model.summary()"
   ]
  },
  {
   "cell_type": "code",
   "execution_count": 28,
   "metadata": {},
   "outputs": [],
   "source": [
    "# Compiling the model\n",
    "model.compile(loss='categorical_crossentropy',\n",
    "              optimizer='rmsprop',\n",
    "              metrics=['accuracy'])"
   ]
  },
  {
   "cell_type": "code",
   "execution_count": 29,
   "metadata": {},
   "outputs": [
    {
     "name": "stdout",
     "output_type": "stream",
     "text": [
      "Train on 7352 samples, validate on 2947 samples\n",
      "Epoch 1/30\n",
      "7352/7352 [==============================] - 78s 11ms/step - loss: 1.3093 - acc: 0.4378 - val_loss: 1.1394 - val_acc: 0.4764\n",
      "Epoch 2/30\n",
      "7352/7352 [==============================] - 78s 11ms/step - loss: 0.9774 - acc: 0.5779 - val_loss: 0.9096 - val_acc: 0.5989\n",
      "Epoch 3/30\n",
      "7352/7352 [==============================] - 79s 11ms/step - loss: 0.7898 - acc: 0.6453 - val_loss: 0.7903 - val_acc: 0.6010\n",
      "Epoch 4/30\n",
      "7352/7352 [==============================] - 80s 11ms/step - loss: 0.6852 - acc: 0.6659 - val_loss: 0.7359 - val_acc: 0.6098\n",
      "Epoch 5/30\n",
      "7352/7352 [==============================] - 81s 11ms/step - loss: 0.6340 - acc: 0.6938 - val_loss: 0.7105 - val_acc: 0.6882\n",
      "Epoch 6/30\n",
      "7352/7352 [==============================] - 84s 11ms/step - loss: 0.6121 - acc: 0.7184 - val_loss: 0.7155 - val_acc: 0.7095\n",
      "Epoch 7/30\n",
      "7352/7352 [==============================] - 84s 11ms/step - loss: 0.5619 - acc: 0.7552 - val_loss: 0.6483 - val_acc: 0.7353\n",
      "Epoch 8/30\n",
      "7352/7352 [==============================] - 80s 11ms/step - loss: 0.5699 - acc: 0.7622 - val_loss: 0.9099 - val_acc: 0.6556\n",
      "Epoch 9/30\n",
      "7352/7352 [==============================] - 78s 11ms/step - loss: 0.4820 - acc: 0.7792 - val_loss: 0.6446 - val_acc: 0.7255\n",
      "Epoch 10/30\n",
      "7352/7352 [==============================] - 76s 10ms/step - loss: 0.4577 - acc: 0.7882 - val_loss: 0.6594 - val_acc: 0.7296\n",
      "Epoch 11/30\n",
      "7352/7352 [==============================] - 77s 10ms/step - loss: 0.4253 - acc: 0.7983 - val_loss: 0.5161 - val_acc: 0.7594\n",
      "Epoch 12/30\n",
      "7352/7352 [==============================] - 77s 10ms/step - loss: 0.4005 - acc: 0.8073 - val_loss: 0.5184 - val_acc: 0.7594\n",
      "Epoch 13/30\n",
      "7352/7352 [==============================] - 76s 10ms/step - loss: 0.3578 - acc: 0.8347 - val_loss: 0.5101 - val_acc: 0.7693\n",
      "Epoch 14/30\n",
      "7352/7352 [==============================] - 78s 11ms/step - loss: 0.3787 - acc: 0.8462 - val_loss: 0.5765 - val_acc: 0.8025\n",
      "Epoch 15/30\n",
      "7352/7352 [==============================] - 79s 11ms/step - loss: 0.3333 - acc: 0.8709 - val_loss: 0.5308 - val_acc: 0.8534\n",
      "Epoch 16/30\n",
      "7352/7352 [==============================] - 79s 11ms/step - loss: 0.3030 - acc: 0.8856 - val_loss: 0.4443 - val_acc: 0.8829\n",
      "Epoch 17/30\n",
      "7352/7352 [==============================] - 79s 11ms/step - loss: 0.3369 - acc: 0.8991 - val_loss: 0.4790 - val_acc: 0.8785\n",
      "Epoch 18/30\n",
      "7352/7352 [==============================] - 79s 11ms/step - loss: 0.3880 - acc: 0.8981 - val_loss: 0.3827 - val_acc: 0.8880\n",
      "Epoch 19/30\n",
      "7352/7352 [==============================] - 79s 11ms/step - loss: 0.2494 - acc: 0.9294 - val_loss: 0.4458 - val_acc: 0.8677\n",
      "Epoch 20/30\n",
      "7352/7352 [==============================] - 79s 11ms/step - loss: 0.2142 - acc: 0.9353 - val_loss: 1.2043 - val_acc: 0.7296\n",
      "Epoch 21/30\n",
      "7352/7352 [==============================] - 79s 11ms/step - loss: 0.2278 - acc: 0.9329 - val_loss: 0.3980 - val_acc: 0.8863\n",
      "Epoch 22/30\n",
      "7352/7352 [==============================] - 81s 11ms/step - loss: 0.2096 - acc: 0.9374 - val_loss: 0.4330 - val_acc: 0.8887\n",
      "Epoch 23/30\n",
      "7352/7352 [==============================] - 79s 11ms/step - loss: 0.2008 - acc: 0.9421 - val_loss: 0.3027 - val_acc: 0.9104\n",
      "Epoch 24/30\n",
      "7352/7352 [==============================] - 79s 11ms/step - loss: 0.1854 - acc: 0.9423 - val_loss: 0.8322 - val_acc: 0.8507\n",
      "Epoch 25/30\n",
      "7352/7352 [==============================] - 79s 11ms/step - loss: 0.1778 - acc: 0.9450 - val_loss: 0.3560 - val_acc: 0.8989\n",
      "Epoch 26/30\n",
      "7352/7352 [==============================] - 79s 11ms/step - loss: 0.1781 - acc: 0.9418 - val_loss: 0.4385 - val_acc: 0.8941\n",
      "Epoch 27/30\n",
      "7352/7352 [==============================] - 79s 11ms/step - loss: 0.1839 - acc: 0.9431 - val_loss: 0.3617 - val_acc: 0.9067\n",
      "Epoch 28/30\n",
      "7352/7352 [==============================] - 79s 11ms/step - loss: 0.2537 - acc: 0.9335 - val_loss: 0.4756 - val_acc: 0.9019\n",
      "Epoch 29/30\n",
      "7352/7352 [==============================] - 80s 11ms/step - loss: 0.1750 - acc: 0.9448 - val_loss: 0.4085 - val_acc: 0.9070\n",
      "Epoch 30/30\n",
      "7352/7352 [==============================] - 79s 11ms/step - loss: 0.1823 - acc: 0.9456 - val_loss: 0.3616 - val_acc: 0.9080\n"
     ]
    },
    {
     "data": {
      "text/plain": [
       "<keras.callbacks.History at 0x1e4986f1710>"
      ]
     },
     "execution_count": 29,
     "metadata": {},
     "output_type": "execute_result"
    }
   ],
   "source": [
    "# Training the model\n",
    "model.fit(X_train,\n",
    "          Y_train,\n",
    "          batch_size=batch_size,\n",
    "          validation_data=(X_test, Y_test),\n",
    "          epochs=epochs)"
   ]
  },
  {
   "cell_type": "code",
   "execution_count": 30,
   "metadata": {},
   "outputs": [
    {
     "name": "stdout",
     "output_type": "stream",
     "text": [
      "Pred                LAYING  SITTING  STANDING  WALKING  WALKING_DOWNSTAIRS  \\\n",
      "True                                                                         \n",
      "LAYING                 536        0         0        0                   0   \n",
      "SITTING                  5      414        67        0                   2   \n",
      "STANDING                 0      110       421        0                   0   \n",
      "WALKING                  0        0         0      451                  14   \n",
      "WALKING_DOWNSTAIRS       0        0         0        2                 411   \n",
      "WALKING_UPSTAIRS         0        9         0        8                  11   \n",
      "\n",
      "Pred                WALKING_UPSTAIRS  \n",
      "True                                  \n",
      "LAYING                             1  \n",
      "SITTING                            3  \n",
      "STANDING                           1  \n",
      "WALKING                           31  \n",
      "WALKING_DOWNSTAIRS                 7  \n",
      "WALKING_UPSTAIRS                 443  \n"
     ]
    }
   ],
   "source": [
    "# Confusion Matrix\n",
    "print(confusion_matrix(Y_test, model.predict(X_test)))"
   ]
  },
  {
   "cell_type": "code",
   "execution_count": 31,
   "metadata": {},
   "outputs": [
    {
     "name": "stdout",
     "output_type": "stream",
     "text": [
      "2947/2947 [==============================] - 6s 2ms/step\n"
     ]
    }
   ],
   "source": [
    "score = model.evaluate(X_test, Y_test)"
   ]
  },
  {
   "cell_type": "code",
   "execution_count": 32,
   "metadata": {},
   "outputs": [
    {
     "data": {
      "text/plain": [
       "[0.36163416477481386, 0.9080420766881574]"
      ]
     },
     "execution_count": 32,
     "metadata": {},
     "output_type": "execute_result"
    }
   ],
   "source": [
    "score"
   ]
  },
  {
   "cell_type": "markdown",
   "metadata": {},
   "source": [
    "- With a simple 2 layer architecture we got 90.8% accuracy and a loss of 0.30\n",
    "- We can further imporve the performace with Hyperparameter tuning"
   ]
  }
 ],
 "metadata": {
  "kernelspec": {
   "display_name": "Python 3",
   "language": "python",
   "name": "python3"
  },
  "language_info": {
   "codemirror_mode": {
    "name": "ipython",
    "version": 3
   },
   "file_extension": ".py",
   "mimetype": "text/x-python",
   "name": "python",
   "nbconvert_exporter": "python",
   "pygments_lexer": "ipython3",
   "version": "3.6.9"
  }
 },
 "nbformat": 4,
 "nbformat_minor": 2
}
